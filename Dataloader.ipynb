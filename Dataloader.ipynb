{
  "nbformat": 4,
  "nbformat_minor": 0,
  "metadata": {
    "colab": {
      "provenance": []
    },
    "kernelspec": {
      "name": "python3",
      "display_name": "Python 3"
    },
    "language_info": {
      "name": "python"
    }
  },
  "cells": [
    {
      "cell_type": "code",
      "execution_count": 8,
      "metadata": {
        "colab": {
          "base_uri": "https://localhost:8080/"
        },
        "id": "2wfUX3JRuF4g",
        "outputId": "9307c986-1b20-4134-85b2-0fb8956c8469"
      },
      "outputs": [
        {
          "output_type": "stream",
          "name": "stdout",
          "text": [
            "178 45\n",
            "epoch = 1/ 2,step = 5/45,inputs torch.Size([4, 13])\n",
            "epoch = 1/ 2,step = 10/45,inputs torch.Size([4, 13])\n",
            "epoch = 1/ 2,step = 15/45,inputs torch.Size([4, 13])\n",
            "epoch = 1/ 2,step = 20/45,inputs torch.Size([4, 13])\n",
            "epoch = 1/ 2,step = 25/45,inputs torch.Size([4, 13])\n",
            "epoch = 1/ 2,step = 30/45,inputs torch.Size([4, 13])\n",
            "epoch = 1/ 2,step = 35/45,inputs torch.Size([4, 13])\n",
            "epoch = 1/ 2,step = 40/45,inputs torch.Size([4, 13])\n",
            "epoch = 1/ 2,step = 45/45,inputs torch.Size([2, 13])\n",
            "epoch = 2/ 2,step = 5/45,inputs torch.Size([4, 13])\n",
            "epoch = 2/ 2,step = 10/45,inputs torch.Size([4, 13])\n",
            "epoch = 2/ 2,step = 15/45,inputs torch.Size([4, 13])\n",
            "epoch = 2/ 2,step = 20/45,inputs torch.Size([4, 13])\n",
            "epoch = 2/ 2,step = 25/45,inputs torch.Size([4, 13])\n",
            "epoch = 2/ 2,step = 30/45,inputs torch.Size([4, 13])\n",
            "epoch = 2/ 2,step = 35/45,inputs torch.Size([4, 13])\n",
            "epoch = 2/ 2,step = 40/45,inputs torch.Size([4, 13])\n",
            "epoch = 2/ 2,step = 45/45,inputs torch.Size([2, 13])\n"
          ]
        }
      ],
      "source": [
        "import torch\n",
        "import torchvision   #provides addi- tional functionalities to manipulate and process images with stan- dard image processing algorithms.\n",
        "from torch.utils.data import Dataset,DataLoader\n",
        "import numpy as np\n",
        "import math\n",
        "\n",
        "\n",
        "#custom data set\n",
        "class WineDataset(Dataset):\n",
        "\n",
        "  def __init__(self):\n",
        "    #data loading\n",
        "    xy = np.loadtxt('wine.csv',delimiter=\",\",dtype = np.float32,skiprows=1)\n",
        "    #splitting the data into x and y\n",
        "    self.x = torch.from_numpy(xy[:,1:])\n",
        "    self.y = torch.from_numpy(xy[:,[0]]) #n_samples, 1\n",
        "    self.n_samples = xy.shape[0]\n",
        "\n",
        "\n",
        "\n",
        "  \n",
        "  def __getitem__(self,index):\n",
        "    #this will allow us to indexing\n",
        "    return self.x[index],self.y[index]\n",
        "\n",
        "  def __len__(self):\n",
        "    #allow us to have len(dataset)\n",
        "    return self.n_samples\n",
        "\n",
        "#lets create this dataset now\n",
        "dataset = WineDataset()\n",
        "#lets use builtin dataloader class to get batches\n",
        "dataloader = DataLoader(dataset=dataset,batch_size=4, shuffle=True,num_workers=2)  #shuffling is very useful for our training and numworkers makes laoding faster\n",
        "\n",
        "#we can now convert this dataloader to an iterator\n",
        "#ata = next(dataiter) #it will print the next item until it meets the end of the list\n",
        "#unpacking this data\n",
        "#features, labels  = data\n",
        "#print(features,labels)\n",
        "\n",
        "#dummy training loop where we can iterate over all teh data\n",
        "num_epochs = 2\n",
        "total_samples = len(dataset)\n",
        "n_iterations = math.ceil(total_samples/4)\n",
        "print(total_samples,n_iterations)\n",
        "\n",
        "for epoch in range(num_epochs):\n",
        "  for i,(inputs,labels) in enumerate(dataloader):\n",
        "    #forwardprop\n",
        "    #backwardprop\n",
        "    #update weights\n",
        "\n",
        "    if(i+1)%5==0:\n",
        "      print(f'epoch = {epoch+1}/ {num_epochs},step = {i+1}/{n_iterations},inputs {inputs.shape}')\n",
        "\n"
      ]
    },
    {
      "cell_type": "code",
      "source": [],
      "metadata": {
        "id": "b68MJQdU0Q_m"
      },
      "execution_count": null,
      "outputs": []
    }
  ]
}
{
  "nbformat": 4,
  "nbformat_minor": 0,
  "metadata": {
    "colab": {
      "provenance": []
    },
    "kernelspec": {
      "name": "python3",
      "display_name": "Python 3"
    },
    "language_info": {
      "name": "python"
    }
  },
  "cells": [
    {
      "cell_type": "code",
      "execution_count": null,
      "metadata": {
        "colab": {
          "base_uri": "https://localhost:8080/"
        },
        "id": "H8OkcAHBc-3a",
        "outputId": "6645fba5-fa69-41c8-dd7f-cfc6aa3e4ff7"
      },
      "outputs": [
        {
          "output_type": "stream",
          "name": "stdout",
          "text": [
            "softmax numpy= [0.65900114 0.24243297 0.09856589]\n",
            "outputs = tensor([0.6590, 0.2424, 0.0986])\n"
          ]
        }
      ],
      "source": [
        "import torch\n",
        "import torch.nn as nn\n",
        "import numpy as np\n",
        "\n",
        "def softmax(x):\n",
        "  return np.exp(x)/np.sum(np.exp(x), axis=0)\n",
        "\n",
        "x= np.array([2.0,1.0,0.1])\n",
        "outputs = softmax(x)\n",
        "print(f'softmax numpy= {outputs}')\n",
        "\n",
        "#with tensors\n",
        "x = torch.tensor([2.0,1.0,0.1])\n",
        "outputs = torch.softmax(x,dim=0)\n",
        "print(f'outputs = {outputs}')"
      ]
    },
    {
      "cell_type": "code",
      "source": [
        "#cross entropy loss\n",
        "def cross_entropy(actual,predicted):\n",
        "  return -np.sum(actual * np.log(predicted))\n",
        "  return loss\n",
        "\n",
        "# y must be one-hot encoded \n",
        "# if clss 0=: [1,0,0]\n",
        "# if clss 1=: [0,1,0]\n",
        "# if clss 2=: [0,0,1]\n",
        "\n",
        "Y = np.array([1,0,0])\n",
        "#y_pred has probabilities\n",
        "Y_pred_good = np.array([0.7,0.2,0.1])\n",
        "Y_pred_bad = np.array([0.1,0.3,0.6])\n",
        "\n",
        "l1 = cross_entropy(Y,Y_pred_good)\n",
        "l2 = cross_entropy(Y,Y_pred_bad)\n",
        "\n",
        "print(f'crssentropy for good prediction is = {l1:.4f}')\n",
        "print(f'crssentropy for bad prediction is = {l2:.4f}')"
      ],
      "metadata": {
        "colab": {
          "base_uri": "https://localhost:8080/"
        },
        "id": "fNYpM7T1dhMV",
        "outputId": "72fb0952-6a4e-4371-e998-b5b60f33708d"
      },
      "execution_count": null,
      "outputs": [
        {
          "output_type": "stream",
          "name": "stdout",
          "text": [
            "crssentropy for good prediction is = 0.3567\n",
            "crssentropy for bad prediction is = 2.3026\n"
          ]
        }
      ]
    },
    {
      "cell_type": "code",
      "source": [
        "#doing the same cross-entropy in pytorch\n",
        "\n",
        "loss = nn.CrossEntropyLoss()\n",
        "#3samples\n",
        "Y = torch.tensor([2,0,1])\n",
        "\n",
        "#nsamples x nclasses = 3 x 3\n",
        "Y_pred_good = torch.tensor([[0.3,1.0,2.1],[2.0,1.0,0.1],[0.6,1.0,0.1]])\n",
        "Y_pred_bad = torch.tensor([[0.3,1.0,0.1],[1.0,1.0,2.1],[0.6,0.50,3.1]])  # notice that they are raw values. \n",
        "\n",
        "l1 = loss(Y_pred_good,Y)\n",
        "l2 = loss(Y_pred_bad,Y)\n",
        "\n",
        "print(f'loss for good prediction = {l1:.4f}')\n",
        "print(f'loss for bad prediction = {l2:.4f}')\n",
        "\n",
        "#predictions\n",
        "_1,prediction1 = torch.max(Y_pred_good,1)  #max is  returning hghest values and their indices, \n",
        "_,prediction2 = torch.max(Y_pred_bad,1)\n",
        "\n",
        "print(f'prediction good = {prediction1}')\n",
        "print(f'prediction bad = {prediction2}')  #choosing highest probability\n",
        "\n"
      ],
      "metadata": {
        "colab": {
          "base_uri": "https://localhost:8080/"
        },
        "id": "IcafwVXMm_Ln",
        "outputId": "afba229f-3cd5-4d84-f024-1eadc0c561f4"
      },
      "execution_count": null,
      "outputs": [
        {
          "output_type": "stream",
          "name": "stdout",
          "text": [
            "loss for good prediction = 0.5174\n",
            "loss for bad prediction = 1.9664\n",
            "prediction good = tensor([2, 0, 1])\n",
            "prediction bad = tensor([1, 2, 2])\n"
          ]
        }
      ]
    },
    {
      "cell_type": "code",
      "source": [],
      "metadata": {
        "id": "RbEFtCqrqdC7"
      },
      "execution_count": null,
      "outputs": []
    }
  ]
}